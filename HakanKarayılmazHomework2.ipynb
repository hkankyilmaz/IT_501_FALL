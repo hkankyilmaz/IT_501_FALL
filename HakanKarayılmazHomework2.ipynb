{
 "cells": [
  {
   "cell_type": "code",
   "execution_count": null,
   "metadata": {},
   "outputs": [],
   "source": [
    "#question 1\n",
    "\n",
    "\n",
    "def getMiddleThreeCharacters(text):\n",
    "    if len(text) < 3:\n",
    "        return \"Length of the given string should be greater than 3\"\n",
    "    if len(text) % 2 == 0:\n",
    "        return \"Please enter a string with odd length\"\n",
    "    index = len(text) // 2\n",
    "    chars = text[index - 1:index + 2]\n",
    "    return chars\n",
    "getMiddleThreeCharacters(\"programming\")"
   ]
  },
  {
   "cell_type": "code",
   "execution_count": 14,
   "metadata": {},
   "outputs": [
    {
     "data": {
      "text/plain": [
       "[6, 15, 24]"
      ]
     },
     "execution_count": 14,
     "metadata": {},
     "output_type": "execute_result"
    }
   ],
   "source": [
    "#question 2\n",
    "\n",
    "def divideThree(array):\n",
    "    count =0\n",
    "    sum=0\n",
    "    result= []\n",
    "    if len(array) % 3 != 0:\n",
    "        return print(\"can not be divided into 3 chunks\")\n",
    "    for j in array:\n",
    "        sum = sum+j\n",
    "        count= count +1\n",
    "        if count == len(array)//3:\n",
    "            result.append(sum)\n",
    "            count=0\n",
    "            sum=0\n",
    "    return result\n",
    "\n",
    "divideThree([1,2,3,4,5,6,7,8,9])"
   ]
  },
  {
   "cell_type": "code",
   "execution_count": 19,
   "metadata": {},
   "outputs": [
    {
     "data": {
      "text/plain": [
       "'nakah ZAMLIYARAK'"
      ]
     },
     "execution_count": 19,
     "metadata": {},
     "output_type": "execute_result"
    }
   ],
   "source": [
    "#question 3\n",
    "\n",
    "def getwordReverse(text):\n",
    "    arrWords = text.split()\n",
    "    result=\"\"\n",
    "    for i, j in enumerate(arrWords):\n",
    "        if(i==0):\n",
    "            result = result + j[::-1]\n",
    "        else:\n",
    "            result = result + \" \" + j[::-1]\n",
    "    return result\n",
    "        \n",
    "\n",
    "getwordReverse(\"hakan KARAYILMAZ\")"
   ]
  },
  {
   "cell_type": "code",
   "execution_count": 20,
   "metadata": {},
   "outputs": [
    {
     "data": {
      "text/plain": [
       "['Elma', 'Mandalina', 'Erik']"
      ]
     },
     "execution_count": 20,
     "metadata": {},
     "output_type": "execute_result"
    }
   ],
   "source": [
    "#question 4\n",
    "\n",
    "def getSameItem(i,j):\n",
    "    arr=[]\n",
    "    for _x in i:\n",
    "        for x in j:\n",
    "            if _x==x and x not in arr:\n",
    "                arr.append(x)\n",
    "    return arr\n",
    "\n",
    "getSameItem([\"Elma\",\"Armut\",\"Mandalina\",\"Portakal\",\"Erik\"],[\"Kavun\",\"Elma\",\"Çilek\",\"Mandalina\",\"Ceviz\",\"Erik\"])\n"
   ]
  },
  {
   "cell_type": "code",
   "execution_count": 23,
   "metadata": {},
   "outputs": [
    {
     "data": {
      "text/plain": [
       "'sAbAnCiUnIvErSiTy'"
      ]
     },
     "execution_count": 23,
     "metadata": {},
     "output_type": "execute_result"
    }
   ],
   "source": [
    "#question 5\n",
    "\n",
    "def convertText(j):\n",
    "    newWord=\"\"\n",
    "    for i,x in enumerate(j):\n",
    "        if (i+1)%2==0:\n",
    "            newWord= newWord+ x.upper()\n",
    "        else:\n",
    "            newWord=newWord+ x.lower()\n",
    "    return newWord\n",
    "\n",
    "convertText(\"sabanciuniversity\")"
   ]
  }
 ],
 "metadata": {
  "kernelspec": {
   "display_name": "Python 3",
   "language": "python",
   "name": "python3"
  },
  "language_info": {
   "codemirror_mode": {
    "name": "ipython",
    "version": 3
   },
   "file_extension": ".py",
   "mimetype": "text/x-python",
   "name": "python",
   "nbconvert_exporter": "python",
   "pygments_lexer": "ipython3",
   "version": "3.9.6"
  }
 },
 "nbformat": 4,
 "nbformat_minor": 2
}
